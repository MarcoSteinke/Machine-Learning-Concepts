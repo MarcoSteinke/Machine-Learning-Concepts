{
 "cells": [
  {
   "cell_type": "markdown",
   "metadata": {},
   "source": [
    "# Linear models in scikit-learn:\n",
    "\n",
    "This notebook will cover some experiments using linear models in scikit-learn."
   ]
  },
  {
   "cell_type": "markdown",
   "metadata": {},
   "source": [
    "## 1.1 Introduction:\n",
    "\n",
    "So in the following example I will create a basic linear regression model and then plot it."
   ]
  },
  {
   "cell_type": "code",
   "execution_count": 1,
   "metadata": {},
   "outputs": [
    {
     "data": {
      "text/plain": [
       "[<matplotlib.lines.Line2D at 0x1a86f490>]"
      ]
     },
     "execution_count": 1,
     "metadata": {},
     "output_type": "execute_result"
    },
    {
     "data": {
      "image/png": "[encoded data removed]",
      "text/plain": [
       "<Figure size 432x288 with 1 Axes>"
      ]
     },
     "metadata": {
      "needs_background": "light"
     },
     "output_type": "display_data"
    }
   ],
   "source": [
    "from sklearn import linear_model\n",
    "import matplotlib.pyplot as plt\n",
    "\n",
    "regression_model = linear_model.LinearRegression()\n",
    "\n",
    "# initialize some data\n",
    "xs = [[1], [2], [3]]\n",
    "ys = [0, 1, 1.5]\n",
    "\n",
    "# fit the data\n",
    "regression_model.fit(xs, ys)\n",
    "\n",
    "# plot the training data\n",
    "plt.scatter(xs, ys, color='black')\n",
    "\n",
    "# plot the regression_model\n",
    "plt.plot(xs, regression_model.predict(xs), color='blue')"
   ]
  },
  {
   "cell_type": "markdown",
   "metadata": {},
   "source": [
    "## 1.2 Accessing the regression parameters:\n",
    "\n",
    "After running a regression, you may also be interested in the quality of the given regression. Thus the next example will show how to access important parameters of the regression."
   ]
  },
  {
   "cell_type": "code",
   "execution_count": 2,
   "metadata": {},
   "outputs": [
    {
     "data": {
      "text/plain": [
       "array([0.75])"
      ]
     },
     "execution_count": 2,
     "metadata": {},
     "output_type": "execute_result"
    }
   ],
   "source": [
    "# The following line of code is used to get the coefficients of the regression:\n",
    "regression_model.coef_"
   ]
  }
 ],
 "metadata": {
  "kernelspec": {
   "display_name": "Python 3.8.3 32-bit",
   "language": "python",
   "name": "python3"
  },
  "language_info": {
   "codemirror_mode": {
    "name": "ipython",
    "version": 3
   },
   "file_extension": ".py",
   "mimetype": "text/x-python",
   "name": "python",
   "nbconvert_exporter": "python",
   "pygments_lexer": "ipython3",
   "version": "3.8.3"
  },
  "orig_nbformat": 4,
  "vscode": {
   "interpreter": {
    "hash": "bbe9640f49e81eda04b34330051fbc5bae5ad487d9c425e9ac9f0def8d432c72"
   }
  }
 },
 "nbformat": 4,
 "nbformat_minor": 2
}
